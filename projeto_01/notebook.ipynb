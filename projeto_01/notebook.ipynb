{
 "cells": [
  {
   "cell_type": "code",
   "execution_count": 2,
   "metadata": {},
   "outputs": [
    {
     "name": "stderr",
     "output_type": "stream",
     "text": [
      "25/04/02 00:30:52 WARN Utils: Your hostname, codespaces-be4e2e resolves to a loopback address: 127.0.0.1; using 10.0.0.119 instead (on interface eth0)\n",
      "25/04/02 00:30:52 WARN Utils: Set SPARK_LOCAL_IP if you need to bind to another address\n",
      "Setting default log level to \"WARN\".\n",
      "To adjust logging level use sc.setLogLevel(newLevel). For SparkR, use setLogLevel(newLevel).\n",
      "25/04/02 00:30:53 WARN NativeCodeLoader: Unable to load native-hadoop library for your platform... using builtin-java classes where applicable\n"
     ]
    },
    {
     "name": "stdout",
     "output_type": "stream",
     "text": [
      "Estudantes com mais de 20 anos:\n"
     ]
    },
    {
     "name": "stderr",
     "output_type": "stream",
     "text": [
      "                                                                                \r"
     ]
    },
    {
     "name": "stdout",
     "output_type": "stream",
     "text": [
      "+-----+-----+----------+\n",
      "| Nome|Idade|     Curso|\n",
      "+-----+-----+----------+\n",
      "|Pedro|   22|    Física|\n",
      "|Lucas|   21|  Biologio|\n",
      "| João|   22|Matemática|\n",
      "+-----+-----+----------+\n",
      "\n",
      "Número de estudantes por curso:\n",
      "+----------+-----+\n",
      "|     Curso|Total|\n",
      "+----------+-----+\n",
      "|    Física|    1|\n",
      "|Matemática|    2|\n",
      "|   Química|    1|\n",
      "|  Biologio|    1|\n",
      "+----------+-----+\n",
      "\n",
      "Idade média dos estudantes:\n",
      "+----------+\n",
      "|IdadeMedia|\n",
      "+----------+\n",
      "|      20.8|\n",
      "+----------+\n",
      "\n"
     ]
    }
   ],
   "source": [
    "from pyspark.sql import SparkSession \n",
    "\n",
    "#Criar uma sessão Spark\n",
    "spark = SparkSession.builder.appName(\"Exemplo Spark SQL\").getOrCreate()\n",
    "\n",
    "#Criar um conjunto de dados fictícios sobre estudantes \n",
    "data = [\n",
    "    (\"Ana\", 20, \"Matemática\"),\n",
    "    (\"Pedro\", 22, \"Física\"),\n",
    "    (\"Maria\", 19, \"Química\"),\n",
    "    (\"Lucas\", 21, \"Biologio\"),\n",
    "    (\"João\", 22, \"Matemática\")\n",
    "]\n",
    "\n",
    "#Definir os nomes das colunas \n",
    "columns=[\"Nome\", \"Idade\", \"Curso\"]\n",
    "\n",
    "#Criar um DataFrame\n",
    "df = spark.createDataFrame(data, columns)\n",
    "\n",
    "#Registrar o DataFrame como uma tabela temporária \n",
    "df.createOrReplaceTempView(\"Estudantes\")\n",
    "\n",
    "#Executar consultas SQL\n",
    "print(\"Estudantes com mais de 20 anos:\")\n",
    "spark.sql(\"Select * FROM Estudantes WHERE Idade>20\").show()\n",
    "\n",
    "print(\"Número de estudantes por curso:\")\n",
    "spark.sql(\"SELECT Curso, COUNT(*) AS Total FROM Estudantes GROUP BY Curso\").show()\n",
    "\n",
    "print(\"Idade média dos estudantes:\")\n",
    "spark.sql(\"SELECT AVG(Idade) AS IdadeMedia FROM Estudantes\").show()\n",
    "\n",
    "#Encerrar a sessão Spark\n",
    "spark.stop()\n",
    "\n",
    "\n",
    "\n",
    "\n",
    "\n"
   ]
  }
 ],
 "metadata": {
  "kernelspec": {
   "display_name": "Python 3",
   "language": "python",
   "name": "python3"
  },
  "language_info": {
   "codemirror_mode": {
    "name": "ipython",
    "version": 3
   },
   "file_extension": ".py",
   "mimetype": "text/x-python",
   "name": "python",
   "nbconvert_exporter": "python",
   "pygments_lexer": "ipython3",
   "version": "3.12.1"
  }
 },
 "nbformat": 4,
 "nbformat_minor": 2
}
